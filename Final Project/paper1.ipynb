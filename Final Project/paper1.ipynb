{
 "cells": [
  {
   "cell_type": "code",
   "execution_count": 113,
   "metadata": {},
   "outputs": [],
   "source": [
    "import torch\n",
    "import torch.nn as nn\n",
    "import torch.optim as optim\n",
    "from torchvision import models, transforms\n",
    "from torch.utils.data import random_split, DataLoader, Dataset\n",
    "from PIL import Image\n",
    "import os\n",
    "import numpy as np\n",
    "from pyts.image import GramianAngularField\n",
    "import cv2\n",
    "import pandas as pd\n",
    "import matplotlib.pyplot as plt\n",
    "from tqdm import tqdm\n",
    "from sklearn.preprocessing import LabelEncoder\n",
    "from sklearn.model_selection import train_test_split\n",
    "from datetime import datetime, timedelta\n",
    "import torch.nn.functional as F\n",
    "from sklearn.metrics import confusion_matrix"
   ]
  },
  {
   "cell_type": "markdown",
   "metadata": {},
   "source": [
    "# Without GAF"
   ]
  },
  {
   "cell_type": "code",
   "execution_count": 81,
   "metadata": {},
   "outputs": [],
   "source": [
    "class StockCandlestickDataset(Dataset):\n",
    "    def __init__(self, data_dir, transform=None):\n",
    "        self.data_dir = data_dir\n",
    "        self.transform = transform\n",
    "        self.image_paths = [\n",
    "            os.path.join(data_dir, filename) for filename in os.listdir(data_dir) if filename.endswith(\".png\")\n",
    "        ]\n",
    "\n",
    "    def __len__(self):\n",
    "        return len(self.image_paths)\n",
    "\n",
    "    def __getitem__(self, idx):\n",
    "        img_path = self.image_paths[idx]\n",
    "        \n",
    "        image = Image.open(img_path).convert(\"RGB\")\n",
    "        \n",
    "        if self.transform:\n",
    "            image = self.transform(image)\n",
    "        \n",
    "        label = 1 if \"Bullish\" in img_path else 0\n",
    "\n",
    "        return image, label"
   ]
  },
  {
   "cell_type": "markdown",
   "metadata": {},
   "source": [
    "# With GAF"
   ]
  },
  {
   "cell_type": "code",
   "execution_count": 114,
   "metadata": {},
   "outputs": [],
   "source": [
    "class StockCandlestickDatasetWithGAF(Dataset):\n",
    "    def __init__(self, data_dir, transform=None, gaf_image_size=224):\n",
    "        self.data_dir = data_dir\n",
    "        self.transform = transform\n",
    "        self.image_paths = [\n",
    "            os.path.join(data_dir, filename) for filename in os.listdir(data_dir) if filename.endswith(\".png\")\n",
    "        ]\n",
    "        self.gaf_transformer = GramianAngularField(image_size=gaf_image_size, method='summation')\n",
    "\n",
    "    def __len__(self):\n",
    "        return len(self.image_paths)\n",
    "\n",
    "    def __getitem__(self, idx):\n",
    "        img_path = self.image_paths[idx]\n",
    "        \n",
    "        image = Image.open(img_path).convert('L')\n",
    "        image_array = np.array(image)\n",
    "        \n",
    "        gaf_image = self.gaf_transformer.fit_transform(image_array.reshape(1, -1))[0]\n",
    "       \n",
    "        gaf_image = Image.fromarray((gaf_image * 255).astype(np.uint8)).convert(\"RGB\")\n",
    "        \n",
    "        if self.transform:\n",
    "            gaf_image = self.transform(gaf_image)\n",
    "        \n",
    "        label = 1 if \"Bullish\" in img_path else 0\n",
    "\n",
    "        return gaf_image, label"
   ]
  },
  {
   "cell_type": "markdown",
   "metadata": {},
   "source": [
    "# Regular Dataset"
   ]
  },
  {
   "cell_type": "code",
   "execution_count": 82,
   "metadata": {},
   "outputs": [],
   "source": [
    "def set_seed(seed=42):\n",
    "    np.random.seed(seed)\n",
    "    torch.manual_seed(seed)\n",
    "    torch.cuda.manual_seed_all(seed)\n",
    "    torch.backends.cudnn.deterministic = True\n",
    "    torch.backends.cudnn.benchmark = False\n",
    "\n",
    "set_seed(42)\n",
    "\n",
    "transform = transforms.Compose([\n",
    "    transforms.Resize((224, 224)),\n",
    "    transforms.ToTensor(),\n",
    "    transforms.Normalize(mean=[0.485, 0.456, 0.406], std=[0.229, 0.224, 0.225])\n",
    "])\n",
    "\n",
    "data_dir = 'D:\\\\codyb\\\\COMP6970_Final_Project_Data\\\\charts\\\\20_minute_intervals'\n",
    "\n",
    "dataset = StockCandlestickDataset(data_dir, transform=transform)\n",
    "\n",
    "train_size = int(0.8 * len(dataset))\n",
    "test_size = len(dataset) - train_size\n",
    "train_dataset, test_dataset = random_split(dataset, [train_size, test_size])\n",
    "\n",
    "train_loader = DataLoader(train_dataset, batch_size=32, shuffle=True, num_workers=0)\n",
    "test_loader = DataLoader(test_dataset, batch_size=32, shuffle=False, num_workers=0)"
   ]
  },
  {
   "cell_type": "markdown",
   "metadata": {},
   "source": [
    "# GAF Dataset"
   ]
  },
  {
   "cell_type": "code",
   "execution_count": 115,
   "metadata": {},
   "outputs": [],
   "source": [
    "def set_seed(seed=42):\n",
    "    np.random.seed(seed)\n",
    "    torch.manual_seed(seed)\n",
    "    torch.cuda.manual_seed_all(seed)\n",
    "    torch.backends.cudnn.deterministic = True\n",
    "    torch.backends.cudnn.benchmark = False\n",
    "\n",
    "set_seed(42)\n",
    "\n",
    "transform = transforms.Compose([\n",
    "    transforms.Resize((224, 224)),\n",
    "    transforms.ToTensor(),\n",
    "    transforms.Normalize(mean=[0.485, 0.456, 0.406], std=[0.229, 0.224, 0.225])\n",
    "])\n",
    "\n",
    "data_dir = 'D:\\\\codyb\\\\COMP6970_Final_Project_Data\\\\charts\\\\20_minute_intervals'\n",
    "\n",
    "dataset = StockCandlestickDatasetWithGAF(data_dir, transform=transform)\n",
    "\n",
    "train_size = int(0.8 * len(dataset))\n",
    "test_size = len(dataset) - train_size\n",
    "train_dataset, test_dataset = random_split(dataset, [train_size, test_size])\n",
    "\n",
    "train_loader = DataLoader(train_dataset, batch_size=32, shuffle=True, num_workers=0)\n",
    "test_loader = DataLoader(test_dataset, batch_size=32, shuffle=False, num_workers=0)"
   ]
  },
  {
   "cell_type": "code",
   "execution_count": 116,
   "metadata": {},
   "outputs": [],
   "source": [
    "class CandlestickClassifier(nn.Module):\n",
    "    def __init__(self):\n",
    "        super(CandlestickClassifier, self).__init__()\n",
    "        \n",
    "        self.vgg_base = models.vgg16().features\n",
    "        for param in self.vgg_base.parameters():\n",
    "            param.requires_grad = False\n",
    "        \n",
    "        self.conv_layers = nn.Sequential(\n",
    "            nn.Conv2d(512, 32, kernel_size=3, padding=1),\n",
    "            nn.ReLU(),\n",
    "            nn.Conv2d(32, 32, kernel_size=3, padding=1),\n",
    "            nn.ReLU(),\n",
    "            nn.Conv2d(32, 32, kernel_size=3, padding=1),\n",
    "            nn.ReLU(),\n",
    "            nn.MaxPool2d(kernel_size=2, stride=2),\n",
    "\n",
    "            nn.Conv2d(32, 32, kernel_size=3, padding=1),\n",
    "            nn.ReLU(),\n",
    "            nn.Conv2d(32, 32, kernel_size=3, padding=1),\n",
    "            nn.ReLU(),\n",
    "            nn.AdaptiveAvgPool2d((4, 4))\n",
    "        )\n",
    "\n",
    "        self.fc = nn.Sequential(\n",
    "            nn.Flatten(),\n",
    "            nn.Linear(32 * 4 * 4, 128),\n",
    "            nn.ReLU(),\n",
    "            nn.Linear(128, 1),\n",
    "            nn.Sigmoid()\n",
    "        )\n",
    "\n",
    "    def forward(self, x):\n",
    "        x = self.vgg_base(x)\n",
    "        x = self.conv_layers(x)\n",
    "        x = self.fc(x)\n",
    "        return x"
   ]
  },
  {
   "cell_type": "code",
   "execution_count": 117,
   "metadata": {},
   "outputs": [
    {
     "name": "stdout",
     "output_type": "stream",
     "text": [
      "PyTorch version: 2.5.1+cu118\n",
      "CUDA available: True\n",
      "CUDA version: 11.8\n",
      "Number of GPUs: 1\n",
      "GPU 0: NVIDIA GeForce GTX 1660 Ti\n",
      "Device being used: cuda\n"
     ]
    }
   ],
   "source": [
    "print(\"PyTorch version:\", torch.__version__)\n",
    "print(\"CUDA available:\", torch.cuda.is_available())\n",
    "print(\"CUDA version:\", torch.version.cuda)\n",
    "print(\"Number of GPUs:\", torch.cuda.device_count())\n",
    "if torch.cuda.is_available():\n",
    "    for i in range(torch.cuda.device_count()):\n",
    "        print(f\"GPU {i}: {torch.cuda.get_device_name(i)}\")\n",
    "\n",
    "device = torch.device('cuda' if torch.cuda.is_available() else 'cpu')\n",
    "print(\"Device being used:\", device)"
   ]
  },
  {
   "cell_type": "markdown",
   "metadata": {},
   "source": [
    "The results are very dependent on the run. I think there might not be enough data to guarantee convergence. Will test on a larger dataset later."
   ]
  },
  {
   "cell_type": "code",
   "execution_count": 118,
   "metadata": {},
   "outputs": [
    {
     "name": "stdout",
     "output_type": "stream",
     "text": [
      "Epoch [1/20], Loss: 0.6938\n",
      "Epoch [2/20], Loss: 0.6924\n",
      "Epoch [3/20], Loss: 0.6912\n",
      "Epoch [4/20], Loss: 0.6897\n",
      "Epoch [5/20], Loss: 0.6886\n",
      "Epoch [6/20], Loss: 0.6865\n",
      "Epoch [7/20], Loss: 0.6854\n",
      "Epoch [8/20], Loss: 0.6860\n",
      "Epoch [9/20], Loss: 0.6847\n",
      "Epoch [10/20], Loss: 0.6846\n",
      "Epoch [11/20], Loss: 0.6841\n",
      "Epoch [12/20], Loss: 0.6829\n",
      "Epoch [13/20], Loss: 0.6813\n",
      "Epoch [14/20], Loss: 0.6796\n",
      "Epoch [15/20], Loss: 0.6755\n",
      "Epoch [16/20], Loss: 0.6696\n",
      "Epoch [17/20], Loss: 0.6506\n",
      "Epoch [18/20], Loss: 0.6236\n",
      "Epoch [19/20], Loss: 0.5863\n",
      "Epoch [20/20], Loss: 0.5678\n"
     ]
    },
    {
     "data": {
      "image/png": "[encoded data removed]",
      "text/plain": [
       "<Figure size 600x600 with 2 Axes>"
      ]
     },
     "metadata": {},
     "output_type": "display_data"
    },
    {
     "name": "stdout",
     "output_type": "stream",
     "text": [
      "Test Accuracy: 72.50%\n"
     ]
    }
   ],
   "source": [
    "num_epochs = 20\n",
    "device = torch.device('cuda' if torch.cuda.is_available() else 'cpu')\n",
    "model = CandlestickClassifier().to(device)\n",
    "criterion = nn.BCELoss()\n",
    "optimizer = optim.Adam(model.parameters(), lr=1e-4)\n",
    "\n",
    "for epoch in range(num_epochs):\n",
    "    model.train()\n",
    "    running_loss = 0.0\n",
    "    for images, labels in train_loader:\n",
    "        images, labels = images.to(device), labels.float().unsqueeze(1).to(device)\n",
    "        \n",
    "        optimizer.zero_grad()\n",
    "        outputs = model(images)\n",
    "        loss = criterion(outputs, labels)\n",
    "        loss.backward()\n",
    "        optimizer.step()\n",
    "        \n",
    "        running_loss += loss.item() * images.size(0)\n",
    "    epoch_loss = running_loss / len(train_loader.dataset)\n",
    "    print(f\"Epoch [{epoch+1}/{num_epochs}], Loss: {epoch_loss:.4f}\")\n",
    "\n",
    "model.eval()\n",
    "all_labels = []\n",
    "all_predictions = []\n",
    "\n",
    "with torch.no_grad():\n",
    "    for images, labels in test_loader:\n",
    "        images, labels = images.to(device), labels.float().unsqueeze(1).to(device)\n",
    "        outputs = model(images)\n",
    "        predicted = (outputs > 0.5).float()\n",
    "        all_labels.extend(labels.cpu().numpy())\n",
    "        all_predictions.extend(predicted.cpu().numpy())\n",
    "\n",
    "all_labels = np.array(all_labels).flatten()\n",
    "all_predictions = np.array(all_predictions).flatten()\n",
    "\n",
    "conf_matrix = confusion_matrix(all_labels, all_predictions)\n",
    "\n",
    "plt.figure(figsize=(6, 6))\n",
    "plt.imshow(conf_matrix, interpolation='nearest', cmap='Blues')\n",
    "plt.title(\"Confusion Matrix\")\n",
    "plt.colorbar()\n",
    "\n",
    "classes = [\"Bearish\", \"Bullish\"]\n",
    "tick_marks = np.arange(len(classes))\n",
    "plt.xticks(tick_marks, classes, rotation=45)\n",
    "plt.yticks(tick_marks, classes)\n",
    "\n",
    "thresh = conf_matrix.max() / 2.0\n",
    "for i, j in np.ndindex(conf_matrix.shape):\n",
    "    plt.text(j, i, format(conf_matrix[i, j], 'd'),\n",
    "             horizontalalignment=\"center\",\n",
    "             color=\"white\" if conf_matrix[i, j] > thresh else \"black\")\n",
    "\n",
    "plt.ylabel('True label')\n",
    "plt.xlabel('Predicted label')\n",
    "plt.tight_layout()\n",
    "plt.show()\n",
    "\n",
    "accuracy = np.sum(all_predictions == all_labels) / len(all_labels)\n",
    "print(f\"Test Accuracy: {accuracy * 100:.2f}%\")"
   ]
  },
  {
   "cell_type": "markdown",
   "metadata": {},
   "source": [
    "# Accuracies\n",
    "This was performed on my curated training set. **HAS NOT been performed on my real set yet.**\n",
    "\n",
    "**All with Adam Optimizer**\n",
    "\n",
    "**When 48.75% Accuracy, Will label all Bullish**\n",
    "- Graph Trend: (Bullish, Bearish) \n",
    "    - With GAF:\n",
    "        - 5 epochs, 1e-2 LR: 48.75%\n",
    "        - 5 epochs, 1e-3 LR: 48.75%\n",
    "        - 5 epochs, 1e-4 LR: 48.75%\n",
    "        - 10 epochs, 5e-3 LR: 48.75%\n",
    "        - 10 epochs, 1e-3 LR: 48.75%\n",
    "        - 10 epochs, 1e-4 LR: 48.75%\n",
    "        - 20 epochs, 1e-3 LR: 48.75%\n",
    "        - 20 epochs, 5e-4 LR: 75%\n",
    "        - 20 epochs, 1e-4 LR: 73.75%\n",
    "        - 25 epochs, 5e-4 LR: 75%\n",
    "        - 25 epochs, 1e-4 LR: 73.75%\n",
    "    - Without GAF:\n",
    "        - 5 epochs, 1e-2 LR: 95%\n",
    "        - 5 epochs, 5e-3 LR: 57.5%\n",
    "        - 5 epochs, 1e-3 LR: 48.75%\n",
    "        - 5 epochs, 5e-4 LR: 48.75%\n",
    "        - 5 epochs, 1e-4 LR: 48.75%\n",
    "        - 10 epochs, 5e-3 LR: 96.25%\n",
    "        - 10 epochs, 1e-3 LR: 96.25%\n",
    "        - 10 epochs, 5e-4 LR: 52.5%\n",
    "        - 10 epochs, 1e-4 LR: 48.75%\n",
    "        - 20 epochs, 5e-3 LR: 96.25%\n",
    "        - 20 epochs, 1e-3 LR: 96.25%\n",
    "        - 20 epochs, 5e-4 LR: 97.5%\n",
    "        - 20 epochs, 1e-4 LR: 95%\n",
    "- Candlestick Patterns (With None): (Bullish Engulfing, Morning Star, Shooting Star, Hanging Man, Bullish Harami, None, Inverted Hammer, Hammer, Evening Star,Bearish Engulfing)\n",
    "    - With GAF:\n",
    "        - X\n",
    "    - Without GAF:\n",
    "        - 10 epochs, 1e-3 LR: 80.24%\n",
    "        - 20 epochs, 1e-3 LR:\n",
    "- Candlestick Patterns (Without None): (Bullish Engulfing, Morning Star, Shooting Star, Hanging Man, Bullish Harami, Inverted Hammer, Hammer, Evening Star,Bearish Engulfing)\n",
    "    - With GAF:\n",
    "    - Without GAF:\n",
    "        - 20 epochs, "
   ]
  },
  {
   "cell_type": "code",
   "execution_count": null,
   "metadata": {},
   "outputs": [
    {
     "data": {
      "image/png": "[encoded data removed]",
      "text/plain": [
       "<Figure size 2000x1000 with 18 Axes>"
      ]
     },
     "metadata": {},
     "output_type": "display_data"
    }
   ],
   "source": [
    "image_path = \"D:\\\\codyb\\\\COMP6970_Final_Project_Data\\\\charts\\\\20_minute_intervals\\\\TSLA_Candlestick_20230103_0830_to_0850_Bearish.png\"\n",
    "image = cv2.imread(image_path)\n",
    "image_height, image_width, _ = image.shape\n",
    "\n",
    "csv_data = pd.read_csv(\"./labeling/TSLA_minute_data_cleaned_labeled.csv\")\n",
    "\n",
    "x_start = 192\n",
    "x_end = 677\n",
    "total_width = x_end - x_start\n",
    "\n",
    "window_width = 55\n",
    "overlap_increment = 25\n",
    "\n",
    "candlestick_images = []\n",
    "candlestick_labels = []\n",
    "\n",
    "for i in range(18):\n",
    "    section_start = x_start + i * overlap_increment\n",
    "    section_end = section_start + window_width\n",
    "\n",
    "    if section_end > x_end:\n",
    "        break\n",
    "    \n",
    "    candlestick_crop = image[:, section_start:section_end]\n",
    "    candlestick_images.append(candlestick_crop)\n",
    "    \n",
    "    label_index = min(i, len(csv_data) - 1)\n",
    "    candlestick_labels.append(csv_data[\"Candlestick Pattern\"].iloc[label_index])\n",
    "\n",
    "num_images = len(candlestick_images)\n",
    "fig, axes = plt.subplots(3, 6, figsize=(20, 10))\n",
    "\n",
    "for idx, ax in enumerate(axes.flat):\n",
    "    if idx < num_images:\n",
    "        crop_rgb = cv2.cvtColor(candlestick_images[idx], cv2.COLOR_BGR2RGB)\n",
    "        ax.imshow(crop_rgb)\n",
    "        ax.set_title(f\"Pattern: {candlestick_labels[idx]}\")\n",
    "        ax.axis('off')\n",
    "    else:\n",
    "        ax.axis('off')\n",
    "\n",
    "plt.tight_layout()\n",
    "plt.show()"
   ]
  },
  {
   "cell_type": "markdown",
   "metadata": {},
   "source": [
    "# Label Dataset\n",
    "Full dataset with None labels."
   ]
  },
  {
   "cell_type": "code",
   "execution_count": 119,
   "metadata": {},
   "outputs": [
    {
     "data": {
      "image/png": "[encoded data removed]",
      "text/plain": [
       "<Figure size 1500x500 with 5 Axes>"
      ]
     },
     "metadata": {},
     "output_type": "display_data"
    },
    {
     "name": "stdout",
     "output_type": "stream",
     "text": [
      "Unique labels: {'Bullish Engulfing', 'Morning Star', 'Shooting Star', 'Hanging Man', 'Bullish Harami', 'None', 'Inverted Hammer', 'Hammer', 'Evening Star', 'Bearish Engulfing'}\n",
      "Number of unique labels: 10\n"
     ]
    }
   ],
   "source": [
    "image_dir = \"D:\\\\codyb\\\\COMP6970_Final_Project_Data\\\\charts\\\\20_minute_intervals\\\\\"\n",
    "csv_path = \"./labeling/TSLA_minute_data_cleaned_labeled.csv\"\n",
    "\n",
    "csv_data = pd.read_csv(csv_path)\n",
    "csv_data['datetime'] = pd.to_datetime(csv_data['datetime'])\n",
    "\n",
    "x_start = 192\n",
    "x_end = 677\n",
    "total_width = x_end - x_start\n",
    "window_width = 55\n",
    "overlap_increment = 25\n",
    "\n",
    "all_candlestick_images = []\n",
    "all_candlestick_labels = []\n",
    "\n",
    "for filename in os.listdir(image_dir):\n",
    "    if filename.endswith(\".png\"):\n",
    "        parts = filename.split('_')\n",
    "        date_str = parts[2]\n",
    "        time_str = parts[3][:4]\n",
    "        datetime_str = f\"{date_str[:4]}-{date_str[4:6]}-{date_str[6:]} {time_str[:2]}:{time_str[2:]}\"\n",
    "        start_datetime = datetime.strptime(datetime_str, \"%Y-%m-%d %H:%M\")\n",
    "\n",
    "        start_index = csv_data[csv_data['datetime'] == start_datetime].index\n",
    "        if len(start_index) == 0:\n",
    "            print(f\"No matching datetime found in CSV for file {filename}\")\n",
    "            continue\n",
    "        start_index = start_index[0]\n",
    "\n",
    "        image_path = os.path.join(image_dir, filename)\n",
    "        image = cv2.imread(image_path)\n",
    "\n",
    "        candlestick_images = []\n",
    "        candlestick_labels = []\n",
    "        for i in range(18):\n",
    "            section_start = x_start + i * overlap_increment\n",
    "            section_end = section_start + window_width\n",
    "\n",
    "            if section_end > x_end:\n",
    "                break\n",
    "\n",
    "            candlestick_crop = image[60:475, section_start:section_end]\n",
    "            candlestick_images.append(candlestick_crop)\n",
    "\n",
    "            label_index = start_index + i + 1\n",
    "            if label_index < len(csv_data):\n",
    "                label = csv_data[\"Candlestick Pattern\"].iloc[label_index]\n",
    "                if pd.isna(label):\n",
    "                    label = \"None\"\n",
    "                candlestick_labels.append(label)\n",
    "\n",
    "        all_candlestick_images.extend(candlestick_images)\n",
    "        all_candlestick_labels.extend(candlestick_labels)\n",
    "\n",
    "num_images_to_display = 5\n",
    "fig, axes = plt.subplots(1, num_images_to_display, figsize=(15, 5))\n",
    "\n",
    "for idx in range(num_images_to_display):\n",
    "    image_rgb = cv2.cvtColor(all_candlestick_images[idx], cv2.COLOR_BGR2RGB)\n",
    "    axes[idx].imshow(image_rgb)\n",
    "    axes[idx].set_title(f\"Pattern: {all_candlestick_labels[idx]}\")\n",
    "    axes[idx].axis('off')\n",
    "\n",
    "plt.tight_layout()\n",
    "plt.show()\n",
    "\n",
    "unique_labels = set(all_candlestick_labels)\n",
    "print(\"Unique labels:\", unique_labels)\n",
    "print(\"Number of unique labels:\", len(unique_labels))"
   ]
  },
  {
   "cell_type": "markdown",
   "metadata": {},
   "source": [
    "# Label Dataset\n",
    "Dataset without None labels."
   ]
  },
  {
   "cell_type": "code",
   "execution_count": 145,
   "metadata": {},
   "outputs": [
    {
     "data": {
      "image/png": "[encoded data removed]",
      "text/plain": [
       "<Figure size 1500x500 with 5 Axes>"
      ]
     },
     "metadata": {},
     "output_type": "display_data"
    },
    {
     "name": "stdout",
     "output_type": "stream",
     "text": [
      "Unique labels: {'Bullish Engulfing', 'Morning Star', 'Shooting Star', 'Hanging Man', 'Bullish Harami', 'Inverted Hammer', 'Hammer', 'Evening Star', 'Bearish Engulfing'}\n",
      "Number of unique labels: 9\n"
     ]
    }
   ],
   "source": [
    "image_dir = \"D:\\\\codyb\\\\COMP6970_Final_Project_Data\\\\charts\\\\20_minute_intervals\\\\\"\n",
    "csv_path = \"./labeling/TSLA_minute_data_cleaned_labeled.csv\"\n",
    "\n",
    "csv_data = pd.read_csv(csv_path)\n",
    "csv_data['datetime'] = pd.to_datetime(csv_data['datetime'])\n",
    "\n",
    "x_start = 192\n",
    "x_end = 677\n",
    "total_width = x_end - x_start\n",
    "window_width = 55\n",
    "overlap_increment = 25\n",
    "\n",
    "all_candlestick_images = []\n",
    "all_candlestick_labels = []\n",
    "\n",
    "for filename in os.listdir(image_dir):\n",
    "    if filename.endswith(\".png\"):\n",
    "        parts = filename.split('_')\n",
    "        date_str = parts[2]\n",
    "        time_str = parts[3][:4]\n",
    "        datetime_str = f\"{date_str[:4]}-{date_str[4:6]}-{date_str[6:]} {time_str[:2]}:{time_str[2:]}\"\n",
    "        start_datetime = datetime.strptime(datetime_str, \"%Y-%m-%d %H:%M\")\n",
    "\n",
    "        start_index = csv_data[csv_data['datetime'] == start_datetime].index\n",
    "        if len(start_index) == 0:\n",
    "            print(f\"No matching datetime found in CSV for file {filename}\")\n",
    "            continue\n",
    "        start_index = start_index[0]\n",
    "\n",
    "        image_path = os.path.join(image_dir, filename)\n",
    "        image = cv2.imread(image_path)\n",
    "\n",
    "        candlestick_images = []\n",
    "        candlestick_labels = []\n",
    "        for i in range(18):\n",
    "            section_start = x_start + i * overlap_increment\n",
    "            section_end = section_start + window_width\n",
    "\n",
    "            if section_end > x_end:\n",
    "                break\n",
    "\n",
    "            candlestick_crop = image[60:475, section_start:section_end]\n",
    "            candlestick_images.append(candlestick_crop)\n",
    "\n",
    "            label_index = start_index + i + 1\n",
    "            if label_index < len(csv_data):\n",
    "                label = csv_data[\"Candlestick Pattern\"].iloc[label_index]\n",
    "                if pd.isna(label):\n",
    "                    label = \"None\"\n",
    "                candlestick_labels.append(label)\n",
    "\n",
    "        all_candlestick_images.extend(candlestick_images)\n",
    "        all_candlestick_labels.extend(candlestick_labels)\n",
    "\n",
    "# Filter out \"None\" labels\n",
    "filtered_images_labels = [\n",
    "    (img, lbl) for img, lbl in zip(all_candlestick_images, all_candlestick_labels) if lbl != \"None\"\n",
    "]\n",
    "all_candlestick_images, all_candlestick_labels = zip(*filtered_images_labels)\n",
    "\n",
    "num_images_to_display = 5\n",
    "fig, axes = plt.subplots(1, min(num_images_to_display, len(all_candlestick_images)), figsize=(15, 5))\n",
    "\n",
    "for idx in range(min(num_images_to_display, len(all_candlestick_images))):\n",
    "    image_rgb = cv2.cvtColor(all_candlestick_images[idx], cv2.COLOR_BGR2RGB)\n",
    "    axes[idx].imshow(image_rgb)\n",
    "    axes[idx].set_title(f\"Pattern: {all_candlestick_labels[idx]}\")\n",
    "    axes[idx].axis('off')\n",
    "\n",
    "plt.tight_layout()\n",
    "plt.show()\n",
    "\n",
    "unique_labels = set(all_candlestick_labels)\n",
    "print(\"Unique labels:\", unique_labels)\n",
    "print(\"Number of unique labels:\", len(unique_labels))"
   ]
  },
  {
   "cell_type": "markdown",
   "metadata": {},
   "source": [
    "# Regular Implementation"
   ]
  },
  {
   "cell_type": "code",
   "execution_count": 131,
   "metadata": {},
   "outputs": [],
   "source": [
    "class CandlestickDataset(Dataset):\n",
    "    def __init__(self, images, labels, transform=None):\n",
    "        self.images = images\n",
    "        self.labels = labels\n",
    "        self.transform = transform\n",
    "\n",
    "    def __len__(self):\n",
    "        return len(self.images)\n",
    "\n",
    "    def __getitem__(self, idx):\n",
    "        image = self.images[idx]\n",
    "        label = self.labels[idx]\n",
    "        \n",
    "        # Convert to PIL image if using transforms\n",
    "        image = cv2.cvtColor(image, cv2.COLOR_BGR2RGB)\n",
    "        if self.transform:\n",
    "            image = self.transform(image)\n",
    "        \n",
    "        return image, label"
   ]
  },
  {
   "cell_type": "markdown",
   "metadata": {},
   "source": [
    "# GAF Implementation"
   ]
  },
  {
   "cell_type": "code",
   "execution_count": 153,
   "metadata": {},
   "outputs": [],
   "source": [
    "class CandlestickDatasetWithGAF(Dataset):\n",
    "    def __init__(self, images, labels, transform=None, image_size=(224, 224)):\n",
    "        self.images = images\n",
    "        self.labels = labels\n",
    "        self.transform = transform\n",
    "        self.image_size = image_size\n",
    "        self.gaf = GramianAngularField(image_size=self.image_size[0])  # Define GAF with desired output size\n",
    "\n",
    "    def __len__(self):\n",
    "        return len(self.images)\n",
    "\n",
    "    def __getitem__(self, idx):\n",
    "        image = self.images[idx]\n",
    "        label = self.labels[idx]\n",
    "        \n",
    "        # Resize image for GAF if needed\n",
    "        image_resized = cv2.resize(image, (self.image_size[0], self.image_size[1]))\n",
    "        \n",
    "        # Normalize image data to range [0, 1] before GAF transformation\n",
    "        image_resized = image_resized / 255.0\n",
    "\n",
    "        # Convert the grayscale image data to GAF format\n",
    "        image_gaf = self.gaf.fit_transform(image_resized.reshape(1, -1)).squeeze()\n",
    "        \n",
    "        # Ensure the GAF image has the correct dimensions for CNN input\n",
    "        if image_gaf.ndim == 2:  # Single channel\n",
    "            image_gaf = np.repeat(image_gaf[np.newaxis, :, :], 3, axis=0)  # Convert to 3 channels (C, H, W)\n",
    "\n",
    "        # Convert to Tensor\n",
    "        if self.transform:\n",
    "            image_gaf = self.transform(image_gaf.transpose(1, 2, 0))  # Transpose to HWC for torchvision\n",
    "\n",
    "        return image_gaf, label"
   ]
  },
  {
   "cell_type": "code",
   "execution_count": 154,
   "metadata": {},
   "outputs": [],
   "source": [
    "class CandlestickCNN(nn.Module):\n",
    "    def __init__(self, num_classes):\n",
    "        super(CandlestickCNN, self).__init__()\n",
    "        self.conv1 = nn.Conv2d(3, 32, kernel_size=3, stride=1, padding=1)\n",
    "        self.conv2 = nn.Conv2d(32, 64, kernel_size=3, stride=1, padding=1)\n",
    "        self.pool = nn.MaxPool2d(2, 2)\n",
    "        self.fc1 = nn.Linear(64 * 14 * 14, 128)\n",
    "        self.fc2 = nn.Linear(128, num_classes)\n",
    "        self.relu = nn.ReLU()\n",
    "\n",
    "    def forward(self, x):\n",
    "        x = self.pool(self.relu(self.conv1(x)))\n",
    "        x = self.pool(self.relu(self.conv2(x)))\n",
    "        x = x.view(-1, 64 * 14 * 14)\n",
    "        x = self.relu(self.fc1(x))\n",
    "        x = self.fc2(x)\n",
    "        return x"
   ]
  },
  {
   "cell_type": "code",
   "execution_count": 155,
   "metadata": {},
   "outputs": [
    {
     "name": "stdout",
     "output_type": "stream",
     "text": [
      "Label Mapping:\n",
      "Bearish Engulfing: 0\n",
      "Bullish Engulfing: 1\n",
      "Bullish Harami: 2\n",
      "Evening Star: 3\n",
      "Hammer: 4\n",
      "Hanging Man: 5\n",
      "Inverted Hammer: 6\n",
      "Morning Star: 7\n",
      "Shooting Star: 8\n"
     ]
    }
   ],
   "source": [
    "label_encoder = LabelEncoder()\n",
    "all_candlestick_labels_encoded = label_encoder.fit_transform(all_candlestick_labels)\n",
    "\n",
    "label_mapping = dict(zip(label_encoder.classes_, range(len(label_encoder.classes_))))\n",
    "print(\"Label Mapping:\")\n",
    "for label, encoded_value in label_mapping.items():\n",
    "    print(f\"{label}: {encoded_value}\")\n",
    "\n",
    "num_classes = len(label_encoder.classes_)\n",
    "\n",
    "X_train, X_test, y_train, y_test = train_test_split(\n",
    "    all_candlestick_images, all_candlestick_labels_encoded, test_size=0.2, random_state=42\n",
    ")\n",
    "\n",
    "transform = transforms.Compose([\n",
    "    transforms.ToPILImage(),\n",
    "    transforms.Resize((56, 56)),\n",
    "    transforms.ToTensor(),\n",
    "])"
   ]
  },
  {
   "cell_type": "markdown",
   "metadata": {},
   "source": [
    "# Regular Dataset"
   ]
  },
  {
   "cell_type": "code",
   "execution_count": 143,
   "metadata": {},
   "outputs": [],
   "source": [
    "train_dataset = CandlestickDataset(X_train, y_train, transform=transform)\n",
    "test_dataset = CandlestickDataset(X_test, y_test, transform=transform)\n",
    "\n",
    "train_loader = DataLoader(train_dataset, batch_size=32, shuffle=True)\n",
    "test_loader = DataLoader(test_dataset, batch_size=32, shuffle=False)"
   ]
  },
  {
   "cell_type": "markdown",
   "metadata": {},
   "source": [
    "# GAF Dataset"
   ]
  },
  {
   "cell_type": "code",
   "execution_count": 157,
   "metadata": {},
   "outputs": [],
   "source": [
    "train_dataset = CandlestickDatasetWithGAF(X_train, y_train, transform=transform)\n",
    "test_dataset = CandlestickDatasetWithGAF(X_test, y_test, transform=transform)\n",
    "\n",
    "train_loader = DataLoader(train_dataset, batch_size=32, shuffle=True)\n",
    "test_loader = DataLoader(test_dataset, batch_size=32, shuffle=False)"
   ]
  },
  {
   "cell_type": "code",
   "execution_count": null,
   "metadata": {},
   "outputs": [
    {
     "name": "stderr",
     "output_type": "stream",
     "text": [
      "Training Epoch 1/20:   0%|          | 0/36 [00:00<?, ?it/s]"
     ]
    },
    {
     "name": "stderr",
     "output_type": "stream",
     "text": [
      "Training Epoch 1/20: 100%|██████████| 36/36 [00:05<00:00,  6.90it/s]\n"
     ]
    },
    {
     "name": "stdout",
     "output_type": "stream",
     "text": [
      "Epoch [1/20], Loss: 1.7662\n"
     ]
    },
    {
     "name": "stderr",
     "output_type": "stream",
     "text": [
      "Training Epoch 2/20: 100%|██████████| 36/36 [00:05<00:00,  7.03it/s]\n"
     ]
    },
    {
     "name": "stdout",
     "output_type": "stream",
     "text": [
      "Epoch [2/20], Loss: 1.6593\n"
     ]
    },
    {
     "name": "stderr",
     "output_type": "stream",
     "text": [
      "Training Epoch 3/20: 100%|██████████| 36/36 [00:05<00:00,  6.66it/s]\n"
     ]
    },
    {
     "name": "stdout",
     "output_type": "stream",
     "text": [
      "Epoch [3/20], Loss: 1.5552\n"
     ]
    },
    {
     "name": "stderr",
     "output_type": "stream",
     "text": [
      "Training Epoch 4/20: 100%|██████████| 36/36 [00:05<00:00,  7.07it/s]\n"
     ]
    },
    {
     "name": "stdout",
     "output_type": "stream",
     "text": [
      "Epoch [4/20], Loss: 1.4793\n"
     ]
    },
    {
     "name": "stderr",
     "output_type": "stream",
     "text": [
      "Training Epoch 5/20: 100%|██████████| 36/36 [00:05<00:00,  7.14it/s]\n"
     ]
    },
    {
     "name": "stdout",
     "output_type": "stream",
     "text": [
      "Epoch [5/20], Loss: 1.3838\n"
     ]
    },
    {
     "name": "stderr",
     "output_type": "stream",
     "text": [
      "Training Epoch 6/20: 100%|██████████| 36/36 [00:05<00:00,  6.70it/s]\n"
     ]
    },
    {
     "name": "stdout",
     "output_type": "stream",
     "text": [
      "Epoch [6/20], Loss: 1.2772\n"
     ]
    },
    {
     "name": "stderr",
     "output_type": "stream",
     "text": [
      "Training Epoch 7/20: 100%|██████████| 36/36 [00:06<00:00,  5.85it/s]\n"
     ]
    },
    {
     "name": "stdout",
     "output_type": "stream",
     "text": [
      "Epoch [7/20], Loss: 1.1890\n"
     ]
    },
    {
     "name": "stderr",
     "output_type": "stream",
     "text": [
      "Training Epoch 8/20: 100%|██████████| 36/36 [00:06<00:00,  5.61it/s]\n"
     ]
    },
    {
     "name": "stdout",
     "output_type": "stream",
     "text": [
      "Epoch [8/20], Loss: 1.1395\n"
     ]
    },
    {
     "name": "stderr",
     "output_type": "stream",
     "text": [
      "Training Epoch 9/20: 100%|██████████| 36/36 [00:06<00:00,  5.52it/s]\n"
     ]
    },
    {
     "name": "stdout",
     "output_type": "stream",
     "text": [
      "Epoch [9/20], Loss: 1.0339\n"
     ]
    },
    {
     "name": "stderr",
     "output_type": "stream",
     "text": [
      "Training Epoch 10/20:  72%|███████▏  | 26/36 [00:04<00:02,  4.89it/s]"
     ]
    }
   ],
   "source": [
    "label_mapping = {i: label for i, label in enumerate(label_encoder.classes_)}\n",
    "\n",
    "device = torch.device(\"cuda\" if torch.cuda.is_available() else \"cpu\")\n",
    "model = CandlestickCNN(num_classes=num_classes).to(device)\n",
    "criterion = nn.CrossEntropyLoss()\n",
    "optimizer = optim.Adam(model.parameters(), lr=1e-3)\n",
    "\n",
    "num_epochs = 20\n",
    "for epoch in range(num_epochs):\n",
    "    model.train()\n",
    "    running_loss = 0.0\n",
    "    for images, labels in tqdm(train_loader, desc=f\"Training Epoch {epoch+1}/{num_epochs}\"):\n",
    "        images, labels = images.to(device), labels.to(device)\n",
    "\n",
    "        optimizer.zero_grad()\n",
    "\n",
    "        outputs = model(images)\n",
    "        loss = criterion(outputs, labels)\n",
    "\n",
    "        loss.backward()\n",
    "        optimizer.step()\n",
    "\n",
    "        running_loss += loss.item()\n",
    "    print(f\"Epoch [{epoch+1}/{num_epochs}], Loss: {running_loss / len(train_loader):.4f}\")\n",
    "\n",
    "model.eval()\n",
    "all_labels = []\n",
    "all_predictions = []\n",
    "\n",
    "with torch.no_grad():\n",
    "    for images, labels in test_loader:\n",
    "        images, labels = images.to(device), labels.to(device)\n",
    "        outputs = model(images)\n",
    "        _, predicted = torch.max(outputs, 1)\n",
    "        all_labels.extend(labels.cpu().numpy())\n",
    "        all_predictions.extend(predicted.cpu().numpy())\n",
    "\n",
    "conf_matrix = confusion_matrix(all_labels, all_predictions)\n",
    "\n",
    "class_names = [label_mapping[i] for i in range(num_classes)]\n",
    "\n",
    "plt.figure(figsize=(10, 8))\n",
    "plt.imshow(conf_matrix, interpolation='nearest', cmap=plt.cm.Blues)\n",
    "plt.title(\"Confusion Matrix\")\n",
    "plt.colorbar()\n",
    "tick_marks = np.arange(num_classes)\n",
    "plt.xticks(tick_marks, class_names, rotation=45)\n",
    "plt.yticks(tick_marks, class_names)\n",
    "\n",
    "plt.ylabel(\"True Label\")\n",
    "plt.xlabel(\"Predicted Label\")\n",
    "\n",
    "for i in range(conf_matrix.shape[0]):\n",
    "    for j in range(conf_matrix.shape[1]):\n",
    "        plt.text(j, i, f\"{conf_matrix[i, j]}\", horizontalalignment=\"center\", color=\"white\" if conf_matrix[i, j] > conf_matrix.max() / 2 else \"black\")\n",
    "\n",
    "plt.tight_layout()\n",
    "plt.show()\n",
    "\n",
    "accuracy = np.trace(conf_matrix) / np.sum(conf_matrix)\n",
    "print(f\"Test Accuracy: {accuracy * 100:.2f}%\")"
   ]
  },
  {
   "cell_type": "markdown",
   "metadata": {},
   "source": [
    "# Accuracies\n",
    "This was performed on my curated training set. **HAS NOT been performed on my real set yet.**\n",
    "\n",
    "**All with Adam Optimizer**\n",
    "\n",
    "**When 48.75% Accuracy, Will label all Bullish**\n",
    "- Graph Trend: (Bullish, Bearish) \n",
    "    - With GAF:\n",
    "        - 5 epochs, 1e-2 LR: 48.75%\n",
    "        - 5 epochs, 1e-3 LR: 48.75%\n",
    "        - 5 epochs, 1e-4 LR: 48.75%\n",
    "        - 10 epochs, 5e-3 LR: 48.75%\n",
    "        - 10 epochs, 1e-3 LR: 48.75%\n",
    "        - 10 epochs, 1e-4 LR: 48.75%\n",
    "        - 20 epochs, 1e-3 LR: 48.75%\n",
    "        - 20 epochs, 5e-4 LR: 75%\n",
    "        - 20 epochs, 1e-4 LR: 73.75%\n",
    "        - 25 epochs, 5e-4 LR: 75%\n",
    "        - 25 epochs, 1e-4 LR: 73.75%\n",
    "    - Without GAF:\n",
    "        - 5 epochs, 1e-2 LR: 95%\n",
    "        - 5 epochs, 5e-3 LR: 57.5%\n",
    "        - 5 epochs, 1e-3 LR: 48.75%\n",
    "        - 5 epochs, 5e-4 LR: 48.75%\n",
    "        - 5 epochs, 1e-4 LR: 48.75%\n",
    "        - 10 epochs, 5e-3 LR: 96.25%\n",
    "        - 10 epochs, 1e-3 LR: 96.25%\n",
    "        - 10 epochs, 5e-4 LR: 52.5%\n",
    "        - 10 epochs, 1e-4 LR: 48.75%\n",
    "        - 20 epochs, 5e-3 LR: 96.25%\n",
    "        - 20 epochs, 1e-3 LR: 96.25%\n",
    "        - 20 epochs, 5e-4 LR: 97.5%\n",
    "        - 20 epochs, 1e-4 LR: 95%\n",
    "- Candlestick Patterns (With None): (Bullish Engulfing, Morning Star, Shooting Star, Hanging Man, Bullish Harami, None, Inverted Hammer, Hammer, Evening Star,Bearish Engulfing)\n",
    "    - With GAF:\n",
    "        - X\n",
    "    - Without GAF:\n",
    "        - 10 epochs, 1e-3 LR: 80.24%\n",
    "        - 20 epochs, 1e-3 LR:\n",
    "- Candlestick Patterns (Without None): (Bullish Engulfing, Morning Star, Shooting Star, Hanging Man, Bullish Harami, Inverted Hammer, Hammer, Evening Star,Bearish Engulfing)\n",
    "    - With GAF:\n",
    "    - Without GAF:\n",
    "        - 20 epochs, "
   ]
  }
 ],
 "metadata": {
  "kernelspec": {
   "display_name": "base",
   "language": "python",
   "name": "python3"
  },
  "language_info": {
   "codemirror_mode": {
    "name": "ipython",
    "version": 3
   },
   "file_extension": ".py",
   "mimetype": "text/x-python",
   "name": "python",
   "nbconvert_exporter": "python",
   "pygments_lexer": "ipython3",
   "version": "3.12.7"
  }
 },
 "nbformat": 4,
 "nbformat_minor": 2
}
